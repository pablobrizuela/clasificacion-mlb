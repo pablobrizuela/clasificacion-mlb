{
 "cells": [
  {
   "cell_type": "markdown",
   "metadata": {},
   "source": [
    "Importamos todas las librerias necesarias en el notebook"
   ]
  },
  {
   "cell_type": "code",
   "execution_count": 1,
   "metadata": {},
   "outputs": [],
   "source": [
    "import matplotlib.pyplot as plt\n",
    "import numpy\n",
    "import pandas\n",
    "import seaborn\n",
    "import sys\n",
    "from scipy import stats"
   ]
  },
  {
   "cell_type": "code",
   "execution_count": 2,
   "metadata": {},
   "outputs": [
    {
     "data": {
      "text/plain": [
       "'0.9.0'"
      ]
     },
     "execution_count": 2,
     "metadata": {},
     "output_type": "execute_result"
    }
   ],
   "source": [
    "seaborn.__version__"
   ]
  },
  {
   "cell_type": "markdown",
   "metadata": {},
   "source": [
    "Leemos el dataset correspondiente al primer practico."
   ]
  },
  {
   "cell_type": "code",
   "execution_count": 3,
   "metadata": {},
   "outputs": [
    {
     "data": {
      "text/plain": [
       "100000"
      ]
     },
     "execution_count": 3,
     "metadata": {},
     "output_type": "execute_result"
    }
   ],
   "source": [
    "def CustomParser(data):\n",
    "    if data is '':\n",
    "        return []\n",
    "    import ast\n",
    "    return ast.literal_eval(data)\n",
    "\n",
    "dataset = pandas.read_csv('meli_dataset_20190426.csv', converters={'ATTRIBUTES':CustomParser}, nrows=100000)\n",
    "row0 = dataset.shape[0]\n",
    "row0"
   ]
  },
  {
   "cell_type": "code",
   "execution_count": 4,
   "metadata": {},
   "outputs": [
    {
     "data": {
      "text/html": [
       "<div>\n",
       "<style scoped>\n",
       "    .dataframe tbody tr th:only-of-type {\n",
       "        vertical-align: middle;\n",
       "    }\n",
       "\n",
       "    .dataframe tbody tr th {\n",
       "        vertical-align: top;\n",
       "    }\n",
       "\n",
       "    .dataframe thead th {\n",
       "        text-align: right;\n",
       "    }\n",
       "</style>\n",
       "<table border=\"1\" class=\"dataframe\">\n",
       "  <thead>\n",
       "    <tr style=\"text-align: right;\">\n",
       "      <th></th>\n",
       "      <th>ITEM_ID</th>\n",
       "      <th>SHP_WEIGHT</th>\n",
       "      <th>SHP_LENGTH</th>\n",
       "      <th>SHP_WIDTH</th>\n",
       "      <th>SHP_HEIGHT</th>\n",
       "      <th>ATTRIBUTES</th>\n",
       "      <th>CATALOG_PRODUCT_ID</th>\n",
       "      <th>CONDITION</th>\n",
       "      <th>DOMAIN_ID</th>\n",
       "      <th>PRICE</th>\n",
       "      <th>SELLER_ID</th>\n",
       "      <th>STATUS</th>\n",
       "      <th>TITLE</th>\n",
       "    </tr>\n",
       "  </thead>\n",
       "  <tbody>\n",
       "    <tr>\n",
       "      <th>0</th>\n",
       "      <td>M1CQ76ZT5W</td>\n",
       "      <td>NaN</td>\n",
       "      <td>NaN</td>\n",
       "      <td>NaN</td>\n",
       "      <td>NaN</td>\n",
       "      <td>[]</td>\n",
       "      <td>H53U1H7Q5G</td>\n",
       "      <td>NaN</td>\n",
       "      <td>NaN</td>\n",
       "      <td>NaN</td>\n",
       "      <td>NaN</td>\n",
       "      <td>404</td>\n",
       "      <td>NaN</td>\n",
       "    </tr>\n",
       "    <tr>\n",
       "      <th>1</th>\n",
       "      <td>SN7ISIGQ9J</td>\n",
       "      <td>235.0</td>\n",
       "      <td>25.0</td>\n",
       "      <td>25.0</td>\n",
       "      <td>10.0</td>\n",
       "      <td>[{'id': 'BRAND', 'name': 'Marca', 'value_id': ...</td>\n",
       "      <td>H53U1H7Q5G</td>\n",
       "      <td>new</td>\n",
       "      <td>MLB-SKIN_CARE_SUPPLIES</td>\n",
       "      <td>68.0</td>\n",
       "      <td>QF4OJMYQ9Q</td>\n",
       "      <td>active</td>\n",
       "      <td>Ácido Hidroquinona 20%   30g + Sabonete Pré Pe...</td>\n",
       "    </tr>\n",
       "    <tr>\n",
       "      <th>2</th>\n",
       "      <td>JGEV50GW2U</td>\n",
       "      <td>1757.0</td>\n",
       "      <td>23.0</td>\n",
       "      <td>17.0</td>\n",
       "      <td>16.0</td>\n",
       "      <td>[{'id': 'ACCESSORIES_INCLUDED', 'name': 'Acess...</td>\n",
       "      <td>YRBDJR6T7Y</td>\n",
       "      <td>new</td>\n",
       "      <td>MLB-NEBULIZERS</td>\n",
       "      <td>145.9</td>\n",
       "      <td>WEE71CZC2Q</td>\n",
       "      <td>active</td>\n",
       "      <td>Inalador E Nebulizador Infantil Nebdog Superfl...</td>\n",
       "    </tr>\n",
       "    <tr>\n",
       "      <th>3</th>\n",
       "      <td>JGEV50GW2U</td>\n",
       "      <td>1748.0</td>\n",
       "      <td>23.0</td>\n",
       "      <td>17.0</td>\n",
       "      <td>16.0</td>\n",
       "      <td>[{'id': 'ACCESSORIES_INCLUDED', 'name': 'Acess...</td>\n",
       "      <td>YRBDJR6T7Y</td>\n",
       "      <td>new</td>\n",
       "      <td>MLB-NEBULIZERS</td>\n",
       "      <td>145.9</td>\n",
       "      <td>WEE71CZC2Q</td>\n",
       "      <td>active</td>\n",
       "      <td>Inalador E Nebulizador Infantil Nebdog Superfl...</td>\n",
       "    </tr>\n",
       "    <tr>\n",
       "      <th>4</th>\n",
       "      <td>JGEV50GW2U</td>\n",
       "      <td>NaN</td>\n",
       "      <td>NaN</td>\n",
       "      <td>NaN</td>\n",
       "      <td>NaN</td>\n",
       "      <td>[{'id': 'ACCESSORIES_INCLUDED', 'name': 'Acess...</td>\n",
       "      <td>YRBDJR6T7Y</td>\n",
       "      <td>new</td>\n",
       "      <td>MLB-NEBULIZERS</td>\n",
       "      <td>145.9</td>\n",
       "      <td>WEE71CZC2Q</td>\n",
       "      <td>active</td>\n",
       "      <td>Inalador E Nebulizador Infantil Nebdog Superfl...</td>\n",
       "    </tr>\n",
       "  </tbody>\n",
       "</table>\n",
       "</div>"
      ],
      "text/plain": [
       "      ITEM_ID  SHP_WEIGHT  SHP_LENGTH  SHP_WIDTH  SHP_HEIGHT  \\\n",
       "0  M1CQ76ZT5W         NaN         NaN        NaN         NaN   \n",
       "1  SN7ISIGQ9J       235.0        25.0       25.0        10.0   \n",
       "2  JGEV50GW2U      1757.0        23.0       17.0        16.0   \n",
       "3  JGEV50GW2U      1748.0        23.0       17.0        16.0   \n",
       "4  JGEV50GW2U         NaN         NaN        NaN         NaN   \n",
       "\n",
       "                                          ATTRIBUTES CATALOG_PRODUCT_ID  \\\n",
       "0                                                 []         H53U1H7Q5G   \n",
       "1  [{'id': 'BRAND', 'name': 'Marca', 'value_id': ...         H53U1H7Q5G   \n",
       "2  [{'id': 'ACCESSORIES_INCLUDED', 'name': 'Acess...         YRBDJR6T7Y   \n",
       "3  [{'id': 'ACCESSORIES_INCLUDED', 'name': 'Acess...         YRBDJR6T7Y   \n",
       "4  [{'id': 'ACCESSORIES_INCLUDED', 'name': 'Acess...         YRBDJR6T7Y   \n",
       "\n",
       "  CONDITION               DOMAIN_ID  PRICE   SELLER_ID  STATUS  \\\n",
       "0       NaN                     NaN    NaN         NaN     404   \n",
       "1       new  MLB-SKIN_CARE_SUPPLIES   68.0  QF4OJMYQ9Q  active   \n",
       "2       new          MLB-NEBULIZERS  145.9  WEE71CZC2Q  active   \n",
       "3       new          MLB-NEBULIZERS  145.9  WEE71CZC2Q  active   \n",
       "4       new          MLB-NEBULIZERS  145.9  WEE71CZC2Q  active   \n",
       "\n",
       "                                               TITLE  \n",
       "0                                                NaN  \n",
       "1  Ácido Hidroquinona 20%   30g + Sabonete Pré Pe...  \n",
       "2  Inalador E Nebulizador Infantil Nebdog Superfl...  \n",
       "3  Inalador E Nebulizador Infantil Nebdog Superfl...  \n",
       "4  Inalador E Nebulizador Infantil Nebdog Superfl...  "
      ]
     },
     "execution_count": 4,
     "metadata": {},
     "output_type": "execute_result"
    }
   ],
   "source": [
    "dataset.head()"
   ]
  },
  {
   "cell_type": "markdown",
   "metadata": {},
   "source": [
    "**1 - Eliminar valores cuyo status sea `404` , luego eliminar la columna `status` del dataset ya que solo es útil para limpieza.**"
   ]
  },
  {
   "cell_type": "code",
   "execution_count": 5,
   "metadata": {},
   "outputs": [],
   "source": [
    "indices = dataset[ dataset['STATUS'] == '404' ].index\n",
    "dataset.drop(indices , inplace=True)"
   ]
  },
  {
   "cell_type": "code",
   "execution_count": 6,
   "metadata": {},
   "outputs": [
    {
     "data": {
      "text/plain": [
       "14655"
      ]
     },
     "execution_count": 6,
     "metadata": {},
     "output_type": "execute_result"
    }
   ],
   "source": [
    "row1 = dataset.shape[0]\n",
    "row0-row1"
   ]
  },
  {
   "cell_type": "code",
   "execution_count": 7,
   "metadata": {},
   "outputs": [
    {
     "data": {
      "text/plain": [
       "6.823609689525759"
      ]
     },
     "execution_count": 7,
     "metadata": {},
     "output_type": "execute_result"
    }
   ],
   "source": [
    "row0/(row0-row1)"
   ]
  },
  {
   "cell_type": "markdown",
   "metadata": {},
   "source": [
    "Vemos que 78361 filas fueron removidas. Esto es un 6 porciento de data set original de casi 500 mil filas."
   ]
  },
  {
   "cell_type": "markdown",
   "metadata": {},
   "source": [
    "2 - Eliminar los valores NaN de las columnas con prefijo `SHP_`. Estas son aquellas que representan o peso o dimensiones de un item."
   ]
  },
  {
   "cell_type": "code",
   "execution_count": 8,
   "metadata": {},
   "outputs": [],
   "source": [
    "indices = dataset[dataset['SHP_WEIGHT'].isna() | dataset['SHP_LENGTH'].isna() | \n",
    "                  dataset['SHP_WIDTH'].isna() | dataset['SHP_HEIGHT'].isna() ].index\n",
    "dataset.drop(indices , inplace=True)\n",
    "row2 = dataset.shape[0]"
   ]
  },
  {
   "cell_type": "code",
   "execution_count": 9,
   "metadata": {},
   "outputs": [
    {
     "name": "stdout",
     "output_type": "stream",
     "text": [
      "Nos quedan  59938  filas. Fueron removidas  25407 . Esto es un  2.35911363010194 porciento.\n"
     ]
    }
   ],
   "source": [
    "print('Nos quedan ',row2,' filas. Fueron removidas ',row1-row2, '. Esto es un ',row2/(row1-row2),'porciento.')"
   ]
  },
  {
   "cell_type": "markdown",
   "metadata": {},
   "source": [
    "**3-Agrupar por item id y calcular mediana de peso y medidas. De esta forma debería quedar una única fila por cada item_id.**\n"
   ]
  },
  {
   "cell_type": "code",
   "execution_count": 10,
   "metadata": {},
   "outputs": [],
   "source": [
    "listColumns = list(dataset.columns)\n",
    "columns_dic={}\n",
    "for item in listColumns:\n",
    "    if item.startswith('SHP_'):\n",
    "        columns_dic[item] = 'median'\n",
    "    else:\n",
    "        columns_dic[item] = 'first'\n",
    "dataset = dataset.groupby('ITEM_ID').agg(columns_dic)\n"
   ]
  },
  {
   "cell_type": "code",
   "execution_count": 11,
   "metadata": {},
   "outputs": [
    {
     "data": {
      "text/html": [
       "<div>\n",
       "<style scoped>\n",
       "    .dataframe tbody tr th:only-of-type {\n",
       "        vertical-align: middle;\n",
       "    }\n",
       "\n",
       "    .dataframe tbody tr th {\n",
       "        vertical-align: top;\n",
       "    }\n",
       "\n",
       "    .dataframe thead th {\n",
       "        text-align: right;\n",
       "    }\n",
       "</style>\n",
       "<table border=\"1\" class=\"dataframe\">\n",
       "  <thead>\n",
       "    <tr style=\"text-align: right;\">\n",
       "      <th></th>\n",
       "      <th>SHP_WEIGHT</th>\n",
       "      <th>SHP_LENGTH</th>\n",
       "      <th>SHP_WIDTH</th>\n",
       "      <th>SHP_HEIGHT</th>\n",
       "      <th>PRICE</th>\n",
       "    </tr>\n",
       "  </thead>\n",
       "  <tbody>\n",
       "    <tr>\n",
       "      <th>count</th>\n",
       "      <td>47794.000000</td>\n",
       "      <td>47794.000000</td>\n",
       "      <td>47794.000000</td>\n",
       "      <td>47794.000000</td>\n",
       "      <td>4.281400e+04</td>\n",
       "    </tr>\n",
       "    <tr>\n",
       "      <th>mean</th>\n",
       "      <td>1782.875455</td>\n",
       "      <td>31.275372</td>\n",
       "      <td>20.944846</td>\n",
       "      <td>11.338381</td>\n",
       "      <td>7.760315e+02</td>\n",
       "    </tr>\n",
       "    <tr>\n",
       "      <th>std</th>\n",
       "      <td>3074.927432</td>\n",
       "      <td>18.507890</td>\n",
       "      <td>11.007366</td>\n",
       "      <td>8.163078</td>\n",
       "      <td>1.003895e+05</td>\n",
       "    </tr>\n",
       "    <tr>\n",
       "      <th>min</th>\n",
       "      <td>1.000000</td>\n",
       "      <td>0.000000</td>\n",
       "      <td>0.000000</td>\n",
       "      <td>0.000000</td>\n",
       "      <td>1.000000e-01</td>\n",
       "    </tr>\n",
       "    <tr>\n",
       "      <th>25%</th>\n",
       "      <td>250.000000</td>\n",
       "      <td>20.000000</td>\n",
       "      <td>12.000000</td>\n",
       "      <td>5.000000</td>\n",
       "      <td>4.590000e+01</td>\n",
       "    </tr>\n",
       "    <tr>\n",
       "      <th>50%</th>\n",
       "      <td>650.000000</td>\n",
       "      <td>25.000000</td>\n",
       "      <td>20.000000</td>\n",
       "      <td>10.000000</td>\n",
       "      <td>9.900000e+01</td>\n",
       "    </tr>\n",
       "    <tr>\n",
       "      <th>75%</th>\n",
       "      <td>1861.750000</td>\n",
       "      <td>36.000000</td>\n",
       "      <td>25.000000</td>\n",
       "      <td>15.000000</td>\n",
       "      <td>1.799000e+02</td>\n",
       "    </tr>\n",
       "    <tr>\n",
       "      <th>max</th>\n",
       "      <td>42700.000000</td>\n",
       "      <td>288.200000</td>\n",
       "      <td>105.000000</td>\n",
       "      <td>85.000000</td>\n",
       "      <td>2.000000e+07</td>\n",
       "    </tr>\n",
       "  </tbody>\n",
       "</table>\n",
       "</div>"
      ],
      "text/plain": [
       "         SHP_WEIGHT    SHP_LENGTH     SHP_WIDTH    SHP_HEIGHT         PRICE\n",
       "count  47794.000000  47794.000000  47794.000000  47794.000000  4.281400e+04\n",
       "mean    1782.875455     31.275372     20.944846     11.338381  7.760315e+02\n",
       "std     3074.927432     18.507890     11.007366      8.163078  1.003895e+05\n",
       "min        1.000000      0.000000      0.000000      0.000000  1.000000e-01\n",
       "25%      250.000000     20.000000     12.000000      5.000000  4.590000e+01\n",
       "50%      650.000000     25.000000     20.000000     10.000000  9.900000e+01\n",
       "75%     1861.750000     36.000000     25.000000     15.000000  1.799000e+02\n",
       "max    42700.000000    288.200000    105.000000     85.000000  2.000000e+07"
      ]
     },
     "execution_count": 11,
     "metadata": {},
     "output_type": "execute_result"
    }
   ],
   "source": [
    "dataset.describe()"
   ]
  },
  {
   "cell_type": "markdown",
   "metadata": {},
   "source": [
    "**4-Parsear la columna de atributos y extraer a columnas propias aquellos atributos cuyo `id` sea `BRAND` o `MODEL`. Estos atributos representan marca o modelo que el vendedor del item ingresó en la publicación. [Opcional] No es necesario limitarse a estos dos atributos, se puede probar quedarse con los N atributos más frecuentes.**\n",
    "\n"
   ]
  },
  {
   "cell_type": "code",
   "execution_count": 12,
   "metadata": {},
   "outputs": [
    {
     "data": {
      "text/html": [
       "<div>\n",
       "<style scoped>\n",
       "    .dataframe tbody tr th:only-of-type {\n",
       "        vertical-align: middle;\n",
       "    }\n",
       "\n",
       "    .dataframe tbody tr th {\n",
       "        vertical-align: top;\n",
       "    }\n",
       "\n",
       "    .dataframe thead th {\n",
       "        text-align: right;\n",
       "    }\n",
       "</style>\n",
       "<table border=\"1\" class=\"dataframe\">\n",
       "  <thead>\n",
       "    <tr style=\"text-align: right;\">\n",
       "      <th></th>\n",
       "      <th>ITEM_ID</th>\n",
       "      <th>SHP_WEIGHT</th>\n",
       "      <th>SHP_LENGTH</th>\n",
       "      <th>SHP_WIDTH</th>\n",
       "      <th>SHP_HEIGHT</th>\n",
       "      <th>ATTRIBUTES</th>\n",
       "      <th>CATALOG_PRODUCT_ID</th>\n",
       "      <th>CONDITION</th>\n",
       "      <th>DOMAIN_ID</th>\n",
       "      <th>PRICE</th>\n",
       "      <th>SELLER_ID</th>\n",
       "      <th>STATUS</th>\n",
       "      <th>TITLE</th>\n",
       "    </tr>\n",
       "    <tr>\n",
       "      <th>ITEM_ID</th>\n",
       "      <th></th>\n",
       "      <th></th>\n",
       "      <th></th>\n",
       "      <th></th>\n",
       "      <th></th>\n",
       "      <th></th>\n",
       "      <th></th>\n",
       "      <th></th>\n",
       "      <th></th>\n",
       "      <th></th>\n",
       "      <th></th>\n",
       "      <th></th>\n",
       "      <th></th>\n",
       "    </tr>\n",
       "  </thead>\n",
       "  <tbody>\n",
       "    <tr>\n",
       "      <th>A002DG7EAZ</th>\n",
       "      <td>A002DG7EAZ</td>\n",
       "      <td>812.0</td>\n",
       "      <td>36.0</td>\n",
       "      <td>32.0</td>\n",
       "      <td>12.0</td>\n",
       "      <td>[]</td>\n",
       "      <td>H53U1H7Q5G</td>\n",
       "      <td>NaN</td>\n",
       "      <td>NaN</td>\n",
       "      <td>NaN</td>\n",
       "      <td>U2T0EY02XB</td>\n",
       "      <td>under_review</td>\n",
       "      <td>Apresentador Multimídia Wireless Logitech R400...</td>\n",
       "    </tr>\n",
       "    <tr>\n",
       "      <th>A00SG33UIH</th>\n",
       "      <td>A00SG33UIH</td>\n",
       "      <td>2320.0</td>\n",
       "      <td>16.0</td>\n",
       "      <td>11.0</td>\n",
       "      <td>4.0</td>\n",
       "      <td>[{'id': 'AUTHOR', 'name': 'Autor', 'value_id':...</td>\n",
       "      <td>H53U1H7Q5G</td>\n",
       "      <td>new</td>\n",
       "      <td>MLB-BOOKS</td>\n",
       "      <td>149.99</td>\n",
       "      <td>BCZWFNME44</td>\n",
       "      <td>active</td>\n",
       "      <td>Apostila Trt-sp 2018 - Analista Jud.  Área Apo...</td>\n",
       "    </tr>\n",
       "    <tr>\n",
       "      <th>A0212UOK33</th>\n",
       "      <td>A0212UOK33</td>\n",
       "      <td>595.0</td>\n",
       "      <td>24.0</td>\n",
       "      <td>11.0</td>\n",
       "      <td>7.0</td>\n",
       "      <td>[{'id': 'BRAND', 'name': 'Marca', 'value_id': ...</td>\n",
       "      <td>WRIHRTEP3M</td>\n",
       "      <td>new</td>\n",
       "      <td>MLB-PERFUMES</td>\n",
       "      <td>415.49</td>\n",
       "      <td>CT0YFG9NX0</td>\n",
       "      <td>active</td>\n",
       "      <td>Polo Black ( Preto ) 200ml Masculino | Ganhe A...</td>\n",
       "    </tr>\n",
       "    <tr>\n",
       "      <th>A021RGAH7U</th>\n",
       "      <td>A021RGAH7U</td>\n",
       "      <td>110.0</td>\n",
       "      <td>17.0</td>\n",
       "      <td>14.0</td>\n",
       "      <td>6.0</td>\n",
       "      <td>[]</td>\n",
       "      <td>H53U1H7Q5G</td>\n",
       "      <td>NaN</td>\n",
       "      <td>NaN</td>\n",
       "      <td>NaN</td>\n",
       "      <td>P9VRNLM3AL</td>\n",
       "      <td>under_review</td>\n",
       "      <td>Tela Vidro Samsung Galaxy S3 Mini Gt-i8190 Ori...</td>\n",
       "    </tr>\n",
       "    <tr>\n",
       "      <th>A03R64R3R0</th>\n",
       "      <td>A03R64R3R0</td>\n",
       "      <td>860.0</td>\n",
       "      <td>16.0</td>\n",
       "      <td>11.0</td>\n",
       "      <td>4.0</td>\n",
       "      <td>[{'id': 'ITEM_CONDITION', 'name': 'Condição do...</td>\n",
       "      <td>H53U1H7Q5G</td>\n",
       "      <td>new</td>\n",
       "      <td>MLB-FISHING_LINES</td>\n",
       "      <td>93.90</td>\n",
       "      <td>LRL1YL0D48</td>\n",
       "      <td>active</td>\n",
       "      <td>Linha Monofilamento Platinumxt C/10 0,70mm/100...</td>\n",
       "    </tr>\n",
       "  </tbody>\n",
       "</table>\n",
       "</div>"
      ],
      "text/plain": [
       "               ITEM_ID  SHP_WEIGHT  SHP_LENGTH  SHP_WIDTH  SHP_HEIGHT  \\\n",
       "ITEM_ID                                                                 \n",
       "A002DG7EAZ  A002DG7EAZ       812.0        36.0       32.0        12.0   \n",
       "A00SG33UIH  A00SG33UIH      2320.0        16.0       11.0         4.0   \n",
       "A0212UOK33  A0212UOK33       595.0        24.0       11.0         7.0   \n",
       "A021RGAH7U  A021RGAH7U       110.0        17.0       14.0         6.0   \n",
       "A03R64R3R0  A03R64R3R0       860.0        16.0       11.0         4.0   \n",
       "\n",
       "                                                   ATTRIBUTES  \\\n",
       "ITEM_ID                                                         \n",
       "A002DG7EAZ                                                 []   \n",
       "A00SG33UIH  [{'id': 'AUTHOR', 'name': 'Autor', 'value_id':...   \n",
       "A0212UOK33  [{'id': 'BRAND', 'name': 'Marca', 'value_id': ...   \n",
       "A021RGAH7U                                                 []   \n",
       "A03R64R3R0  [{'id': 'ITEM_CONDITION', 'name': 'Condição do...   \n",
       "\n",
       "           CATALOG_PRODUCT_ID CONDITION          DOMAIN_ID   PRICE  \\\n",
       "ITEM_ID                                                              \n",
       "A002DG7EAZ         H53U1H7Q5G       NaN                NaN     NaN   \n",
       "A00SG33UIH         H53U1H7Q5G       new          MLB-BOOKS  149.99   \n",
       "A0212UOK33         WRIHRTEP3M       new       MLB-PERFUMES  415.49   \n",
       "A021RGAH7U         H53U1H7Q5G       NaN                NaN     NaN   \n",
       "A03R64R3R0         H53U1H7Q5G       new  MLB-FISHING_LINES   93.90   \n",
       "\n",
       "             SELLER_ID        STATUS  \\\n",
       "ITEM_ID                                \n",
       "A002DG7EAZ  U2T0EY02XB  under_review   \n",
       "A00SG33UIH  BCZWFNME44        active   \n",
       "A0212UOK33  CT0YFG9NX0        active   \n",
       "A021RGAH7U  P9VRNLM3AL  under_review   \n",
       "A03R64R3R0  LRL1YL0D48        active   \n",
       "\n",
       "                                                        TITLE  \n",
       "ITEM_ID                                                        \n",
       "A002DG7EAZ  Apresentador Multimídia Wireless Logitech R400...  \n",
       "A00SG33UIH  Apostila Trt-sp 2018 - Analista Jud.  Área Apo...  \n",
       "A0212UOK33  Polo Black ( Preto ) 200ml Masculino | Ganhe A...  \n",
       "A021RGAH7U  Tela Vidro Samsung Galaxy S3 Mini Gt-i8190 Ori...  \n",
       "A03R64R3R0  Linha Monofilamento Platinumxt C/10 0,70mm/100...  "
      ]
     },
     "execution_count": 12,
     "metadata": {},
     "output_type": "execute_result"
    }
   ],
   "source": [
    "dataset.head()"
   ]
  },
  {
   "cell_type": "code",
   "execution_count": null,
   "metadata": {},
   "outputs": [],
   "source": []
  },
  {
   "cell_type": "code",
   "execution_count": 13,
   "metadata": {},
   "outputs": [],
   "source": [
    "\n",
    "def parse_attributes(row):\n",
    "    data_dict = row['ATTRIBUTES']\n",
    "    #print(data_dict)\n",
    "    data_df = pandas.DataFrame.from_dict(data_dict)\n",
    "    if not 'id' in data_df.columns:\n",
    "        return '',''\n",
    "    brand_value_name = data_df[data_df['id']=='BRAND']['value_name'].values\n",
    "    model_value_name = data_df[data_df['id']=='MODEL']['value_name'].values\n",
    "    if brand_value_name.size == 1:\n",
    "        brand_value_name = brand_value_name[0]\n",
    "    else:\n",
    "        brand_value_name = ''\n",
    "    if model_value_name.size == 1:\n",
    "        model_value_name = model_value_name[0]\n",
    "    else:\n",
    "        model_value_name = ''\n",
    "    return brand_value_name, model_value_name\n",
    "\n",
    "#dataset.sample(50).apply(parse_attributes, axis=1)\n",
    "dataset['BRAND'], dataset['MODEL'] = zip(*dataset.apply(parse_attributes, axis=1))\n",
    "#dataset2 = dataset.apply(parse_attributes, axis=1)\n"
   ]
  },
  {
   "cell_type": "code",
   "execution_count": 14,
   "metadata": {},
   "outputs": [],
   "source": [
    "dataset.to_pickle('dataset_parsed.pkl')"
   ]
  },
  {
   "cell_type": "code",
   "execution_count": 15,
   "metadata": {},
   "outputs": [],
   "source": [
    "dataset = pandas.read_pickle('dataset_parsed.pkl') "
   ]
  },
  {
   "cell_type": "code",
   "execution_count": 16,
   "metadata": {},
   "outputs": [
    {
     "data": {
      "text/html": [
       "<div>\n",
       "<style scoped>\n",
       "    .dataframe tbody tr th:only-of-type {\n",
       "        vertical-align: middle;\n",
       "    }\n",
       "\n",
       "    .dataframe tbody tr th {\n",
       "        vertical-align: top;\n",
       "    }\n",
       "\n",
       "    .dataframe thead th {\n",
       "        text-align: right;\n",
       "    }\n",
       "</style>\n",
       "<table border=\"1\" class=\"dataframe\">\n",
       "  <thead>\n",
       "    <tr style=\"text-align: right;\">\n",
       "      <th></th>\n",
       "      <th>ITEM_ID</th>\n",
       "      <th>SHP_WEIGHT</th>\n",
       "      <th>SHP_LENGTH</th>\n",
       "      <th>SHP_WIDTH</th>\n",
       "      <th>SHP_HEIGHT</th>\n",
       "      <th>ATTRIBUTES</th>\n",
       "      <th>CATALOG_PRODUCT_ID</th>\n",
       "      <th>CONDITION</th>\n",
       "      <th>DOMAIN_ID</th>\n",
       "      <th>PRICE</th>\n",
       "      <th>SELLER_ID</th>\n",
       "      <th>STATUS</th>\n",
       "      <th>TITLE</th>\n",
       "      <th>BRAND</th>\n",
       "      <th>MODEL</th>\n",
       "    </tr>\n",
       "    <tr>\n",
       "      <th>ITEM_ID</th>\n",
       "      <th></th>\n",
       "      <th></th>\n",
       "      <th></th>\n",
       "      <th></th>\n",
       "      <th></th>\n",
       "      <th></th>\n",
       "      <th></th>\n",
       "      <th></th>\n",
       "      <th></th>\n",
       "      <th></th>\n",
       "      <th></th>\n",
       "      <th></th>\n",
       "      <th></th>\n",
       "      <th></th>\n",
       "      <th></th>\n",
       "    </tr>\n",
       "  </thead>\n",
       "  <tbody>\n",
       "    <tr>\n",
       "      <th>A002DG7EAZ</th>\n",
       "      <td>A002DG7EAZ</td>\n",
       "      <td>812.0</td>\n",
       "      <td>36.0</td>\n",
       "      <td>32.0</td>\n",
       "      <td>12.0</td>\n",
       "      <td>[]</td>\n",
       "      <td>H53U1H7Q5G</td>\n",
       "      <td>NaN</td>\n",
       "      <td>NaN</td>\n",
       "      <td>NaN</td>\n",
       "      <td>U2T0EY02XB</td>\n",
       "      <td>under_review</td>\n",
       "      <td>Apresentador Multimídia Wireless Logitech R400...</td>\n",
       "      <td></td>\n",
       "      <td></td>\n",
       "    </tr>\n",
       "    <tr>\n",
       "      <th>A00SG33UIH</th>\n",
       "      <td>A00SG33UIH</td>\n",
       "      <td>2320.0</td>\n",
       "      <td>16.0</td>\n",
       "      <td>11.0</td>\n",
       "      <td>4.0</td>\n",
       "      <td>[{'id': 'AUTHOR', 'name': 'Autor', 'value_id':...</td>\n",
       "      <td>H53U1H7Q5G</td>\n",
       "      <td>new</td>\n",
       "      <td>MLB-BOOKS</td>\n",
       "      <td>149.99</td>\n",
       "      <td>BCZWFNME44</td>\n",
       "      <td>active</td>\n",
       "      <td>Apostila Trt-sp 2018 - Analista Jud.  Área Apo...</td>\n",
       "      <td></td>\n",
       "      <td></td>\n",
       "    </tr>\n",
       "    <tr>\n",
       "      <th>A0212UOK33</th>\n",
       "      <td>A0212UOK33</td>\n",
       "      <td>595.0</td>\n",
       "      <td>24.0</td>\n",
       "      <td>11.0</td>\n",
       "      <td>7.0</td>\n",
       "      <td>[{'id': 'BRAND', 'name': 'Marca', 'value_id': ...</td>\n",
       "      <td>WRIHRTEP3M</td>\n",
       "      <td>new</td>\n",
       "      <td>MLB-PERFUMES</td>\n",
       "      <td>415.49</td>\n",
       "      <td>CT0YFG9NX0</td>\n",
       "      <td>active</td>\n",
       "      <td>Polo Black ( Preto ) 200ml Masculino | Ganhe A...</td>\n",
       "      <td>Ralph Lauren</td>\n",
       "      <td></td>\n",
       "    </tr>\n",
       "    <tr>\n",
       "      <th>A021RGAH7U</th>\n",
       "      <td>A021RGAH7U</td>\n",
       "      <td>110.0</td>\n",
       "      <td>17.0</td>\n",
       "      <td>14.0</td>\n",
       "      <td>6.0</td>\n",
       "      <td>[]</td>\n",
       "      <td>H53U1H7Q5G</td>\n",
       "      <td>NaN</td>\n",
       "      <td>NaN</td>\n",
       "      <td>NaN</td>\n",
       "      <td>P9VRNLM3AL</td>\n",
       "      <td>under_review</td>\n",
       "      <td>Tela Vidro Samsung Galaxy S3 Mini Gt-i8190 Ori...</td>\n",
       "      <td></td>\n",
       "      <td></td>\n",
       "    </tr>\n",
       "    <tr>\n",
       "      <th>A03R64R3R0</th>\n",
       "      <td>A03R64R3R0</td>\n",
       "      <td>860.0</td>\n",
       "      <td>16.0</td>\n",
       "      <td>11.0</td>\n",
       "      <td>4.0</td>\n",
       "      <td>[{'id': 'ITEM_CONDITION', 'name': 'Condição do...</td>\n",
       "      <td>H53U1H7Q5G</td>\n",
       "      <td>new</td>\n",
       "      <td>MLB-FISHING_LINES</td>\n",
       "      <td>93.90</td>\n",
       "      <td>LRL1YL0D48</td>\n",
       "      <td>active</td>\n",
       "      <td>Linha Monofilamento Platinumxt C/10 0,70mm/100...</td>\n",
       "      <td></td>\n",
       "      <td></td>\n",
       "    </tr>\n",
       "  </tbody>\n",
       "</table>\n",
       "</div>"
      ],
      "text/plain": [
       "               ITEM_ID  SHP_WEIGHT  SHP_LENGTH  SHP_WIDTH  SHP_HEIGHT  \\\n",
       "ITEM_ID                                                                 \n",
       "A002DG7EAZ  A002DG7EAZ       812.0        36.0       32.0        12.0   \n",
       "A00SG33UIH  A00SG33UIH      2320.0        16.0       11.0         4.0   \n",
       "A0212UOK33  A0212UOK33       595.0        24.0       11.0         7.0   \n",
       "A021RGAH7U  A021RGAH7U       110.0        17.0       14.0         6.0   \n",
       "A03R64R3R0  A03R64R3R0       860.0        16.0       11.0         4.0   \n",
       "\n",
       "                                                   ATTRIBUTES  \\\n",
       "ITEM_ID                                                         \n",
       "A002DG7EAZ                                                 []   \n",
       "A00SG33UIH  [{'id': 'AUTHOR', 'name': 'Autor', 'value_id':...   \n",
       "A0212UOK33  [{'id': 'BRAND', 'name': 'Marca', 'value_id': ...   \n",
       "A021RGAH7U                                                 []   \n",
       "A03R64R3R0  [{'id': 'ITEM_CONDITION', 'name': 'Condição do...   \n",
       "\n",
       "           CATALOG_PRODUCT_ID CONDITION          DOMAIN_ID   PRICE  \\\n",
       "ITEM_ID                                                              \n",
       "A002DG7EAZ         H53U1H7Q5G       NaN                NaN     NaN   \n",
       "A00SG33UIH         H53U1H7Q5G       new          MLB-BOOKS  149.99   \n",
       "A0212UOK33         WRIHRTEP3M       new       MLB-PERFUMES  415.49   \n",
       "A021RGAH7U         H53U1H7Q5G       NaN                NaN     NaN   \n",
       "A03R64R3R0         H53U1H7Q5G       new  MLB-FISHING_LINES   93.90   \n",
       "\n",
       "             SELLER_ID        STATUS  \\\n",
       "ITEM_ID                                \n",
       "A002DG7EAZ  U2T0EY02XB  under_review   \n",
       "A00SG33UIH  BCZWFNME44        active   \n",
       "A0212UOK33  CT0YFG9NX0        active   \n",
       "A021RGAH7U  P9VRNLM3AL  under_review   \n",
       "A03R64R3R0  LRL1YL0D48        active   \n",
       "\n",
       "                                                        TITLE         BRAND  \\\n",
       "ITEM_ID                                                                       \n",
       "A002DG7EAZ  Apresentador Multimídia Wireless Logitech R400...                 \n",
       "A00SG33UIH  Apostila Trt-sp 2018 - Analista Jud.  Área Apo...                 \n",
       "A0212UOK33  Polo Black ( Preto ) 200ml Masculino | Ganhe A...  Ralph Lauren   \n",
       "A021RGAH7U  Tela Vidro Samsung Galaxy S3 Mini Gt-i8190 Ori...                 \n",
       "A03R64R3R0  Linha Monofilamento Platinumxt C/10 0,70mm/100...                 \n",
       "\n",
       "           MODEL  \n",
       "ITEM_ID           \n",
       "A002DG7EAZ        \n",
       "A00SG33UIH        \n",
       "A0212UOK33        \n",
       "A021RGAH7U        \n",
       "A03R64R3R0        "
      ]
     },
     "execution_count": 16,
     "metadata": {},
     "output_type": "execute_result"
    }
   ],
   "source": [
    "dataset.head()"
   ]
  },
  {
   "cell_type": "markdown",
   "metadata": {},
   "source": [
    "**5-Transformar variables categóricas en números (Se recomienda OneHotEncoding) para las columnas (Sugerencia: arrancar con un sample de ~10K items)**<br/>\n",
    "`CATALOG_PRODUCT_ID`<br/>\n",
    "`CONDITION`<br/>\n",
    "`DOMAIN_ID`<br/>\n",
    "`SELLER_ID`<br/>\n",
    "`BRAND` (extraída en 4)<br/>\n",
    "`MODEL`(extraída en 4)"
   ]
  },
  {
   "cell_type": "code",
   "execution_count": 17,
   "metadata": {},
   "outputs": [],
   "source": [
    "dataset_with_dummies = pandas.get_dummies(dataset, columns=['CATALOG_PRODUCT_ID','CONDITION', 'DOMAIN_ID', 'SELLER_ID', 'BRAND', 'MODEL' ])"
   ]
  },
  {
   "cell_type": "code",
   "execution_count": 18,
   "metadata": {},
   "outputs": [],
   "source": [
    "dataset.to_pickle('dataset_with_dummies.pkl')"
   ]
  },
  {
   "cell_type": "code",
   "execution_count": 19,
   "metadata": {},
   "outputs": [],
   "source": [
    "dataset_with_dummies = pandas.read_pickle('dataset_with_dummies.pkl') "
   ]
  },
  {
   "cell_type": "markdown",
   "metadata": {},
   "source": [
    "**6-En caso de tener alguna variable no medida (en nuestro caso `PRICE`) imputar sus valores utilizando kNN.**"
   ]
  },
  {
   "cell_type": "code",
   "execution_count": 20,
   "metadata": {},
   "outputs": [],
   "source": [
    "#import required packages\n",
    "from sklearn import neighbors\n",
    "from sklearn.metrics import mean_squared_error \n",
    "from math import sqrt\n",
    "import matplotlib.pyplot as plt\n"
   ]
  },
  {
   "cell_type": "code",
   "execution_count": 25,
   "metadata": {},
   "outputs": [],
   "source": [
    "dataset_knn = dataset_with_dummies[dataset_with_dummies['PRICE'].notna() ][['SHP_WEIGHT','SHP_LENGTH','SHP_WIDTH','SHP_HEIGHT', 'PRICE']]"
   ]
  },
  {
   "cell_type": "code",
   "execution_count": 26,
   "metadata": {},
   "outputs": [
    {
     "data": {
      "text/html": [
       "<div>\n",
       "<style scoped>\n",
       "    .dataframe tbody tr th:only-of-type {\n",
       "        vertical-align: middle;\n",
       "    }\n",
       "\n",
       "    .dataframe tbody tr th {\n",
       "        vertical-align: top;\n",
       "    }\n",
       "\n",
       "    .dataframe thead th {\n",
       "        text-align: right;\n",
       "    }\n",
       "</style>\n",
       "<table border=\"1\" class=\"dataframe\">\n",
       "  <thead>\n",
       "    <tr style=\"text-align: right;\">\n",
       "      <th></th>\n",
       "      <th>SHP_WEIGHT</th>\n",
       "      <th>SHP_LENGTH</th>\n",
       "      <th>SHP_WIDTH</th>\n",
       "      <th>SHP_HEIGHT</th>\n",
       "      <th>PRICE</th>\n",
       "    </tr>\n",
       "    <tr>\n",
       "      <th>ITEM_ID</th>\n",
       "      <th></th>\n",
       "      <th></th>\n",
       "      <th></th>\n",
       "      <th></th>\n",
       "      <th></th>\n",
       "    </tr>\n",
       "  </thead>\n",
       "  <tbody>\n",
       "    <tr>\n",
       "      <th>A00SG33UIH</th>\n",
       "      <td>2320.0</td>\n",
       "      <td>16.0</td>\n",
       "      <td>11.0</td>\n",
       "      <td>4.0</td>\n",
       "      <td>149.99</td>\n",
       "    </tr>\n",
       "    <tr>\n",
       "      <th>A0212UOK33</th>\n",
       "      <td>595.0</td>\n",
       "      <td>24.0</td>\n",
       "      <td>11.0</td>\n",
       "      <td>7.0</td>\n",
       "      <td>415.49</td>\n",
       "    </tr>\n",
       "    <tr>\n",
       "      <th>A03R64R3R0</th>\n",
       "      <td>860.0</td>\n",
       "      <td>16.0</td>\n",
       "      <td>11.0</td>\n",
       "      <td>4.0</td>\n",
       "      <td>93.90</td>\n",
       "    </tr>\n",
       "    <tr>\n",
       "      <th>A05WUI8CMM</th>\n",
       "      <td>12100.0</td>\n",
       "      <td>40.0</td>\n",
       "      <td>35.0</td>\n",
       "      <td>35.0</td>\n",
       "      <td>399.00</td>\n",
       "    </tr>\n",
       "    <tr>\n",
       "      <th>A064RKVECD</th>\n",
       "      <td>3627.0</td>\n",
       "      <td>25.0</td>\n",
       "      <td>25.0</td>\n",
       "      <td>5.0</td>\n",
       "      <td>153.99</td>\n",
       "    </tr>\n",
       "  </tbody>\n",
       "</table>\n",
       "</div>"
      ],
      "text/plain": [
       "            SHP_WEIGHT  SHP_LENGTH  SHP_WIDTH  SHP_HEIGHT   PRICE\n",
       "ITEM_ID                                                          \n",
       "A00SG33UIH      2320.0        16.0       11.0         4.0  149.99\n",
       "A0212UOK33       595.0        24.0       11.0         7.0  415.49\n",
       "A03R64R3R0       860.0        16.0       11.0         4.0   93.90\n",
       "A05WUI8CMM     12100.0        40.0       35.0        35.0  399.00\n",
       "A064RKVECD      3627.0        25.0       25.0         5.0  153.99"
      ]
     },
     "execution_count": 26,
     "metadata": {},
     "output_type": "execute_result"
    }
   ],
   "source": [
    "dataset_knn.head()"
   ]
  },
  {
   "cell_type": "code",
   "execution_count": 27,
   "metadata": {},
   "outputs": [],
   "source": [
    "from sklearn.model_selection import train_test_split\n",
    "train , test = train_test_split(dataset_knn, test_size = 0.3)\n",
    "\n",
    "x_train = train.drop('PRICE', axis=1)\n",
    "y_train = train['PRICE']\n",
    "\n",
    "x_test = test.drop('PRICE', axis = 1)\n",
    "y_test = test['PRICE']"
   ]
  },
  {
   "cell_type": "code",
   "execution_count": null,
   "metadata": {},
   "outputs": [],
   "source": []
  },
  {
   "cell_type": "code",
   "execution_count": 28,
   "metadata": {},
   "outputs": [
    {
     "name": "stdout",
     "output_type": "stream",
     "text": [
      "RMSE value for k=  1 is: 176469.89601165996\n",
      "RMSE value for k=  2 is: 176468.80099898856\n",
      "RMSE value for k=  3 is: 176468.9115258329\n",
      "RMSE value for k=  4 is: 176468.74860544683\n",
      "RMSE value for k=  5 is: 176468.41860472303\n",
      "RMSE value for k=  6 is: 176467.49993870925\n",
      "RMSE value for k=  7 is: 176467.65184833613\n",
      "RMSE value for k=  8 is: 176467.85986700671\n",
      "RMSE value for k=  9 is: 176467.8815989298\n",
      "RMSE value for k=  10 is: 176467.78637557427\n"
     ]
    }
   ],
   "source": [
    "rmse_val = [] #to store rmse values for different k\n",
    "for K in range(10):\n",
    "    K = K+1\n",
    "    model = neighbors.KNeighborsRegressor(n_neighbors = K)\n",
    "\n",
    "    model.fit(x_train, y_train)  #fit the model\n",
    "    pred=model.predict(x_test) #make prediction on test set\n",
    "    error = sqrt(mean_squared_error(y_test,pred)) #calculate rmse\n",
    "    rmse_val.append(error) #store rmse values\n",
    "    print('RMSE value for k= ' , K , 'is:', error)"
   ]
  },
  {
   "cell_type": "code",
   "execution_count": 29,
   "metadata": {},
   "outputs": [
    {
     "data": {
      "text/plain": [
       "<matplotlib.axes._subplots.AxesSubplot at 0x7f8db2256390>"
      ]
     },
     "execution_count": 29,
     "metadata": {},
     "output_type": "execute_result"
    },
    {
     "data": {
      "image/png": "[encoded data removed]",
      "text/plain": [
       "<Figure size 432x288 with 1 Axes>"
      ]
     },
     "metadata": {
      "needs_background": "light"
     },
     "output_type": "display_data"
    }
   ],
   "source": [
    "#plotting the rmse values against k values\n",
    "curve = pandas.DataFrame(rmse_val) #elbow curve \n",
    "curve.plot()"
   ]
  },
  {
   "cell_type": "markdown",
   "metadata": {},
   "source": [
    "Elegimos K=6. Se observa que el error es grande por lo cual KNN sobre las dimensiones y el peso no parece dar buenos resultados."
   ]
  },
  {
   "cell_type": "code",
   "execution_count": null,
   "metadata": {},
   "outputs": [],
   "source": []
  },
  {
   "cell_type": "markdown",
   "metadata": {},
   "source": [
    "**7-Medir las distribuciones de las variables como histogramas, realizar normalizaciones e identificar outliers con los métodos vistos en clase. Hacer análisis de estos outliers y considerar si sería correcto o no eliminarlos del dataset. Sugerencia: Identificar outliers de las columnas `SHP_WEIGHT` y `SHP_VOLUME`, donde `SHP_VOLUME` se define como el producto de las dimensiones.**"
   ]
  },
  {
   "cell_type": "markdown",
   "metadata": {},
   "source": [
    "Graficamos histogramas."
   ]
  },
  {
   "cell_type": "code",
   "execution_count": 30,
   "metadata": {},
   "outputs": [
    {
     "data": {
      "image/png": "[encoded data removed]",
      "text/plain": [
       "<Figure size 864x360 with 1 Axes>"
      ]
     },
     "metadata": {
      "needs_background": "light"
     },
     "output_type": "display_data"
    }
   ],
   "source": [
    "plt.figure(figsize=(12,5))\n",
    "seaborn.distplot(dataset['SHP_LENGTH'].dropna(), bins=8, label='Largo')\n",
    "seaborn.distplot(dataset['SHP_WIDTH'].dropna(), bins=8, label='Ancho')\n",
    "seaborn.distplot(dataset['SHP_HEIGHT'].dropna(), bins=8, label='Alto')\n",
    "plt.legend()\n",
    "seaborn.despine()"
   ]
  },
  {
   "cell_type": "markdown",
   "metadata": {},
   "source": [
    "Identificamos outliers."
   ]
  },
  {
   "cell_type": "code",
   "execution_count": 31,
   "metadata": {},
   "outputs": [
    {
     "data": {
      "text/plain": [
       "<matplotlib.axes._subplots.AxesSubplot at 0x7f8db1674198>"
      ]
     },
     "execution_count": 31,
     "metadata": {},
     "output_type": "execute_result"
    },
    {
     "data": {
      "image/png": "[encoded data removed]",
      "text/plain": [
       "<Figure size 864x360 with 1 Axes>"
      ]
     },
     "metadata": {
      "needs_background": "light"
     },
     "output_type": "display_data"
    }
   ],
   "source": [
    "dataset['SHP_VOLUME'] = dataset['SHP_LENGTH'] * dataset['SHP_WIDTH'] * dataset['SHP_HEIGHT']\n",
    "box = dataset[['SHP_VOLUME','SHP_WEIGHT']]\n",
    "plt.figure(figsize=(12,5))\n",
    "seaborn.boxplot(data=box, orient=\"h\", palette=\"Set2\")"
   ]
  },
  {
   "cell_type": "markdown",
   "metadata": {},
   "source": [
    "**8- (Opcional) Si están interesados en usar texto y técnicas de NLP sobre el título:\n",
    "Realizar preprocesamiento del texto, se recomienda leer este artículo.\n",
    "Para convertir el título en vectores se recomienda ver tf-idf. wiki, sklearn.**"
   ]
  },
  {
   "cell_type": "code",
   "execution_count": null,
   "metadata": {},
   "outputs": [],
   "source": []
  },
  {
   "cell_type": "markdown",
   "metadata": {},
   "source": [
    "**9- (Opcional) Aplicar Mixturas Gaussianas (GMM) para hacer clustering**"
   ]
  },
  {
   "cell_type": "markdown",
   "metadata": {},
   "source": [
    "\n"
   ]
  }
 ],
 "metadata": {
  "kernelspec": {
   "display_name": "Python 3",
   "language": "python",
   "name": "python3"
  },
  "language_info": {
   "codemirror_mode": {
    "name": "ipython",
    "version": 3
   },
   "file_extension": ".py",
   "mimetype": "text/x-python",
   "name": "python",
   "nbconvert_exporter": "python",
   "pygments_lexer": "ipython3",
   "version": "3.7.3"
  }
 },
 "nbformat": 4,
 "nbformat_minor": 2
}
