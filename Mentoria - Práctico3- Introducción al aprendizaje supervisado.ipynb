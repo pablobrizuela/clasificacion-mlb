{
 "cells": [
  {
   "cell_type": "markdown",
   "metadata": {},
   "source": [
    "Importamos todas las librerias necesarias en el notebook"
   ]
  },
  {
   "cell_type": "code",
   "execution_count": 1,
   "metadata": {},
   "outputs": [],
   "source": [
    "import matplotlib.pyplot as plt\n",
    "import numpy\n",
    "import pandas\n",
    "import seaborn\n",
    "import sys\n",
    "from scipy import stats"
   ]
  },
  {
   "cell_type": "code",
   "execution_count": 2,
   "metadata": {},
   "outputs": [
    {
     "data": {
      "text/plain": [
       "'0.9.0'"
      ]
     },
     "execution_count": 2,
     "metadata": {},
     "output_type": "execute_result"
    }
   ],
   "source": [
    "seaborn.__version__"
   ]
  },
  {
   "cell_type": "markdown",
   "metadata": {},
   "source": [
    "Leemos el dataset correspondiente al primer practico."
   ]
  },
  {
   "cell_type": "code",
   "execution_count": 3,
   "metadata": {},
   "outputs": [
    {
     "data": {
      "text/plain": [
       "499948"
      ]
     },
     "execution_count": 3,
     "metadata": {},
     "output_type": "execute_result"
    }
   ],
   "source": [
    "dataset = pandas.read_csv('meli_dataset_20190426.csv')\n",
    "row0 = dataset.shape[0]\n",
    "row0"
   ]
  },
  {
   "cell_type": "code",
   "execution_count": 4,
   "metadata": {},
   "outputs": [
    {
     "data": {
      "text/html": [
       "<div>\n",
       "<style scoped>\n",
       "    .dataframe tbody tr th:only-of-type {\n",
       "        vertical-align: middle;\n",
       "    }\n",
       "\n",
       "    .dataframe tbody tr th {\n",
       "        vertical-align: top;\n",
       "    }\n",
       "\n",
       "    .dataframe thead th {\n",
       "        text-align: right;\n",
       "    }\n",
       "</style>\n",
       "<table border=\"1\" class=\"dataframe\">\n",
       "  <thead>\n",
       "    <tr style=\"text-align: right;\">\n",
       "      <th></th>\n",
       "      <th>ITEM_ID</th>\n",
       "      <th>SHP_WEIGHT</th>\n",
       "      <th>SHP_LENGTH</th>\n",
       "      <th>SHP_WIDTH</th>\n",
       "      <th>SHP_HEIGHT</th>\n",
       "      <th>ATTRIBUTES</th>\n",
       "      <th>CATALOG_PRODUCT_ID</th>\n",
       "      <th>CONDITION</th>\n",
       "      <th>DOMAIN_ID</th>\n",
       "      <th>PRICE</th>\n",
       "      <th>SELLER_ID</th>\n",
       "      <th>STATUS</th>\n",
       "      <th>TITLE</th>\n",
       "    </tr>\n",
       "  </thead>\n",
       "  <tbody>\n",
       "    <tr>\n",
       "      <th>0</th>\n",
       "      <td>M1CQ76ZT5W</td>\n",
       "      <td>NaN</td>\n",
       "      <td>NaN</td>\n",
       "      <td>NaN</td>\n",
       "      <td>NaN</td>\n",
       "      <td>NaN</td>\n",
       "      <td>H53U1H7Q5G</td>\n",
       "      <td>NaN</td>\n",
       "      <td>NaN</td>\n",
       "      <td>NaN</td>\n",
       "      <td>NaN</td>\n",
       "      <td>404</td>\n",
       "      <td>NaN</td>\n",
       "    </tr>\n",
       "    <tr>\n",
       "      <th>1</th>\n",
       "      <td>SN7ISIGQ9J</td>\n",
       "      <td>235.0</td>\n",
       "      <td>25.0</td>\n",
       "      <td>25.0</td>\n",
       "      <td>10.0</td>\n",
       "      <td>[{'id': 'BRAND', 'name': 'Marca', 'value_id': ...</td>\n",
       "      <td>H53U1H7Q5G</td>\n",
       "      <td>new</td>\n",
       "      <td>MLB-SKIN_CARE_SUPPLIES</td>\n",
       "      <td>68.0</td>\n",
       "      <td>QF4OJMYQ9Q</td>\n",
       "      <td>active</td>\n",
       "      <td>Ácido Hidroquinona 20%   30g + Sabonete Pré Pe...</td>\n",
       "    </tr>\n",
       "    <tr>\n",
       "      <th>2</th>\n",
       "      <td>JGEV50GW2U</td>\n",
       "      <td>1757.0</td>\n",
       "      <td>23.0</td>\n",
       "      <td>17.0</td>\n",
       "      <td>16.0</td>\n",
       "      <td>[{'id': 'ACCESSORIES_INCLUDED', 'name': 'Acess...</td>\n",
       "      <td>YRBDJR6T7Y</td>\n",
       "      <td>new</td>\n",
       "      <td>MLB-NEBULIZERS</td>\n",
       "      <td>145.9</td>\n",
       "      <td>WEE71CZC2Q</td>\n",
       "      <td>active</td>\n",
       "      <td>Inalador E Nebulizador Infantil Nebdog Superfl...</td>\n",
       "    </tr>\n",
       "    <tr>\n",
       "      <th>3</th>\n",
       "      <td>JGEV50GW2U</td>\n",
       "      <td>1748.0</td>\n",
       "      <td>23.0</td>\n",
       "      <td>17.0</td>\n",
       "      <td>16.0</td>\n",
       "      <td>[{'id': 'ACCESSORIES_INCLUDED', 'name': 'Acess...</td>\n",
       "      <td>YRBDJR6T7Y</td>\n",
       "      <td>new</td>\n",
       "      <td>MLB-NEBULIZERS</td>\n",
       "      <td>145.9</td>\n",
       "      <td>WEE71CZC2Q</td>\n",
       "      <td>active</td>\n",
       "      <td>Inalador E Nebulizador Infantil Nebdog Superfl...</td>\n",
       "    </tr>\n",
       "    <tr>\n",
       "      <th>4</th>\n",
       "      <td>JGEV50GW2U</td>\n",
       "      <td>NaN</td>\n",
       "      <td>NaN</td>\n",
       "      <td>NaN</td>\n",
       "      <td>NaN</td>\n",
       "      <td>[{'id': 'ACCESSORIES_INCLUDED', 'name': 'Acess...</td>\n",
       "      <td>YRBDJR6T7Y</td>\n",
       "      <td>new</td>\n",
       "      <td>MLB-NEBULIZERS</td>\n",
       "      <td>145.9</td>\n",
       "      <td>WEE71CZC2Q</td>\n",
       "      <td>active</td>\n",
       "      <td>Inalador E Nebulizador Infantil Nebdog Superfl...</td>\n",
       "    </tr>\n",
       "  </tbody>\n",
       "</table>\n",
       "</div>"
      ],
      "text/plain": [
       "      ITEM_ID  SHP_WEIGHT  SHP_LENGTH  SHP_WIDTH  SHP_HEIGHT  \\\n",
       "0  M1CQ76ZT5W         NaN         NaN        NaN         NaN   \n",
       "1  SN7ISIGQ9J       235.0        25.0       25.0        10.0   \n",
       "2  JGEV50GW2U      1757.0        23.0       17.0        16.0   \n",
       "3  JGEV50GW2U      1748.0        23.0       17.0        16.0   \n",
       "4  JGEV50GW2U         NaN         NaN        NaN         NaN   \n",
       "\n",
       "                                          ATTRIBUTES CATALOG_PRODUCT_ID  \\\n",
       "0                                                NaN         H53U1H7Q5G   \n",
       "1  [{'id': 'BRAND', 'name': 'Marca', 'value_id': ...         H53U1H7Q5G   \n",
       "2  [{'id': 'ACCESSORIES_INCLUDED', 'name': 'Acess...         YRBDJR6T7Y   \n",
       "3  [{'id': 'ACCESSORIES_INCLUDED', 'name': 'Acess...         YRBDJR6T7Y   \n",
       "4  [{'id': 'ACCESSORIES_INCLUDED', 'name': 'Acess...         YRBDJR6T7Y   \n",
       "\n",
       "  CONDITION               DOMAIN_ID  PRICE   SELLER_ID  STATUS  \\\n",
       "0       NaN                     NaN    NaN         NaN     404   \n",
       "1       new  MLB-SKIN_CARE_SUPPLIES   68.0  QF4OJMYQ9Q  active   \n",
       "2       new          MLB-NEBULIZERS  145.9  WEE71CZC2Q  active   \n",
       "3       new          MLB-NEBULIZERS  145.9  WEE71CZC2Q  active   \n",
       "4       new          MLB-NEBULIZERS  145.9  WEE71CZC2Q  active   \n",
       "\n",
       "                                               TITLE  \n",
       "0                                                NaN  \n",
       "1  Ácido Hidroquinona 20%   30g + Sabonete Pré Pe...  \n",
       "2  Inalador E Nebulizador Infantil Nebdog Superfl...  \n",
       "3  Inalador E Nebulizador Infantil Nebdog Superfl...  \n",
       "4  Inalador E Nebulizador Infantil Nebdog Superfl...  "
      ]
     },
     "execution_count": 4,
     "metadata": {},
     "output_type": "execute_result"
    }
   ],
   "source": [
    "dataset.head()"
   ]
  },
  {
   "cell_type": "markdown",
   "metadata": {},
   "source": [
    "**1 - Eliminar valores cuyo status sea `404` , luego eliminar la columna `status` del dataset ya que solo es útil para limpieza.**"
   ]
  },
  {
   "cell_type": "code",
   "execution_count": 5,
   "metadata": {},
   "outputs": [],
   "source": [
    "indices = dataset[ dataset['STATUS'] == '404' ].index\n",
    "dataset.drop(indices , inplace=True)"
   ]
  },
  {
   "cell_type": "code",
   "execution_count": 6,
   "metadata": {},
   "outputs": [
    {
     "data": {
      "text/plain": [
       "78361"
      ]
     },
     "execution_count": 6,
     "metadata": {},
     "output_type": "execute_result"
    }
   ],
   "source": [
    "row1 = dataset.shape[0]\n",
    "row0-row1"
   ]
  },
  {
   "cell_type": "code",
   "execution_count": 7,
   "metadata": {},
   "outputs": [
    {
     "data": {
      "text/plain": [
       "6.380061510190018"
      ]
     },
     "execution_count": 7,
     "metadata": {},
     "output_type": "execute_result"
    }
   ],
   "source": [
    "row0/(row0-row1)"
   ]
  },
  {
   "cell_type": "markdown",
   "metadata": {},
   "source": [
    "Vemos que 78361 filas fueron removidas. Esto es un 6 porciento de data set original de casi 500 mil filas."
   ]
  },
  {
   "cell_type": "markdown",
   "metadata": {},
   "source": [
    "2 - Eliminar los valores NaN de las columnas con prefijo `SHP_`. Estas son aquellas que representan o peso o dimensiones de un item."
   ]
  },
  {
   "cell_type": "code",
   "execution_count": 8,
   "metadata": {},
   "outputs": [],
   "source": [
    "indices = dataset[dataset['SHP_WEIGHT'].isna() | dataset['SHP_LENGTH'].isna() | \n",
    "                  dataset['SHP_WIDTH'].isna() | dataset['SHP_HEIGHT'].isna() ].index\n",
    "dataset.drop(indices , inplace=True)\n",
    "row2 = dataset.shape[0]"
   ]
  },
  {
   "cell_type": "code",
   "execution_count": 9,
   "metadata": {},
   "outputs": [
    {
     "name": "stdout",
     "output_type": "stream",
     "text": [
      "Nos quedan  296325  filas. Fueron removidas  125262 . Esto es un  2.365641615174594 porciento.\n"
     ]
    }
   ],
   "source": [
    "print('Nos quedan ',row2,' filas. Fueron removidas ',row1-row2, '. Esto es un ',row2/(row1-row2),'porciento.')"
   ]
  },
  {
   "cell_type": "markdown",
   "metadata": {},
   "source": [
    "**3-Agrupar por item id y calcular mediana de peso y medidas. De esta forma debería quedar una única fila por cada item_id.**\n"
   ]
  },
  {
   "cell_type": "code",
   "execution_count": 10,
   "metadata": {},
   "outputs": [],
   "source": [
    "listColumns = list(dataset.columns)\n",
    "columns_dic={}\n",
    "for item in listColumns:\n",
    "    if item.startswith('SHP_'):\n",
    "        columns_dic[item] = 'median'\n",
    "    else:\n",
    "        columns_dic[item] = 'first'\n",
    "dataset = dataset.groupby('ITEM_ID').agg(columns_dic)\n"
   ]
  },
  {
   "cell_type": "code",
   "execution_count": 11,
   "metadata": {},
   "outputs": [
    {
     "data": {
      "text/html": [
       "<div>\n",
       "<style scoped>\n",
       "    .dataframe tbody tr th:only-of-type {\n",
       "        vertical-align: middle;\n",
       "    }\n",
       "\n",
       "    .dataframe tbody tr th {\n",
       "        vertical-align: top;\n",
       "    }\n",
       "\n",
       "    .dataframe thead th {\n",
       "        text-align: right;\n",
       "    }\n",
       "</style>\n",
       "<table border=\"1\" class=\"dataframe\">\n",
       "  <thead>\n",
       "    <tr style=\"text-align: right;\">\n",
       "      <th></th>\n",
       "      <th>SHP_WEIGHT</th>\n",
       "      <th>SHP_LENGTH</th>\n",
       "      <th>SHP_WIDTH</th>\n",
       "      <th>SHP_HEIGHT</th>\n",
       "      <th>PRICE</th>\n",
       "    </tr>\n",
       "  </thead>\n",
       "  <tbody>\n",
       "    <tr>\n",
       "      <th>count</th>\n",
       "      <td>236443.00000</td>\n",
       "      <td>236443.000000</td>\n",
       "      <td>236443.000000</td>\n",
       "      <td>236443.000000</td>\n",
       "      <td>2.106590e+05</td>\n",
       "    </tr>\n",
       "    <tr>\n",
       "      <th>mean</th>\n",
       "      <td>1818.96622</td>\n",
       "      <td>31.398151</td>\n",
       "      <td>21.251572</td>\n",
       "      <td>11.503536</td>\n",
       "      <td>1.958341e+03</td>\n",
       "    </tr>\n",
       "    <tr>\n",
       "      <th>std</th>\n",
       "      <td>3199.67595</td>\n",
       "      <td>18.469790</td>\n",
       "      <td>11.157975</td>\n",
       "      <td>8.234870</td>\n",
       "      <td>6.638232e+05</td>\n",
       "    </tr>\n",
       "    <tr>\n",
       "      <th>min</th>\n",
       "      <td>1.00000</td>\n",
       "      <td>0.000000</td>\n",
       "      <td>0.000000</td>\n",
       "      <td>0.000000</td>\n",
       "      <td>1.000000e-01</td>\n",
       "    </tr>\n",
       "    <tr>\n",
       "      <th>25%</th>\n",
       "      <td>250.00000</td>\n",
       "      <td>20.000000</td>\n",
       "      <td>13.000000</td>\n",
       "      <td>5.000000</td>\n",
       "      <td>4.790000e+01</td>\n",
       "    </tr>\n",
       "    <tr>\n",
       "      <th>50%</th>\n",
       "      <td>650.00000</td>\n",
       "      <td>25.000000</td>\n",
       "      <td>20.000000</td>\n",
       "      <td>10.000000</td>\n",
       "      <td>9.999000e+01</td>\n",
       "    </tr>\n",
       "    <tr>\n",
       "      <th>75%</th>\n",
       "      <td>1883.75000</td>\n",
       "      <td>36.000000</td>\n",
       "      <td>25.000000</td>\n",
       "      <td>16.000000</td>\n",
       "      <td>1.799000e+02</td>\n",
       "    </tr>\n",
       "    <tr>\n",
       "      <th>max</th>\n",
       "      <td>50000.00000</td>\n",
       "      <td>288.200000</td>\n",
       "      <td>115.000000</td>\n",
       "      <td>105.000000</td>\n",
       "      <td>3.032487e+08</td>\n",
       "    </tr>\n",
       "  </tbody>\n",
       "</table>\n",
       "</div>"
      ],
      "text/plain": [
       "         SHP_WEIGHT     SHP_LENGTH      SHP_WIDTH     SHP_HEIGHT         PRICE\n",
       "count  236443.00000  236443.000000  236443.000000  236443.000000  2.106590e+05\n",
       "mean     1818.96622      31.398151      21.251572      11.503536  1.958341e+03\n",
       "std      3199.67595      18.469790      11.157975       8.234870  6.638232e+05\n",
       "min         1.00000       0.000000       0.000000       0.000000  1.000000e-01\n",
       "25%       250.00000      20.000000      13.000000       5.000000  4.790000e+01\n",
       "50%       650.00000      25.000000      20.000000      10.000000  9.999000e+01\n",
       "75%      1883.75000      36.000000      25.000000      16.000000  1.799000e+02\n",
       "max     50000.00000     288.200000     115.000000     105.000000  3.032487e+08"
      ]
     },
     "execution_count": 11,
     "metadata": {},
     "output_type": "execute_result"
    }
   ],
   "source": [
    "dataset.describe()"
   ]
  },
  {
   "cell_type": "markdown",
   "metadata": {},
   "source": [
    "**4-Parsear la columna de atributos y extraer a columnas propias aquellos atributos cuyo `id` sea `BRAND` o `MODEL`. Estos atributos representan marca o modelo que el vendedor del item ingresó en la publicación. [Opcional] No es necesario limitarse a estos dos atributos, se puede probar quedarse con los N atributos más frecuentes.**\n",
    "\n"
   ]
  },
  {
   "cell_type": "code",
   "execution_count": 12,
   "metadata": {},
   "outputs": [
    {
     "data": {
      "text/html": [
       "<div>\n",
       "<style scoped>\n",
       "    .dataframe tbody tr th:only-of-type {\n",
       "        vertical-align: middle;\n",
       "    }\n",
       "\n",
       "    .dataframe tbody tr th {\n",
       "        vertical-align: top;\n",
       "    }\n",
       "\n",
       "    .dataframe thead th {\n",
       "        text-align: right;\n",
       "    }\n",
       "</style>\n",
       "<table border=\"1\" class=\"dataframe\">\n",
       "  <thead>\n",
       "    <tr style=\"text-align: right;\">\n",
       "      <th></th>\n",
       "      <th>ITEM_ID</th>\n",
       "      <th>SHP_WEIGHT</th>\n",
       "      <th>SHP_LENGTH</th>\n",
       "      <th>SHP_WIDTH</th>\n",
       "      <th>SHP_HEIGHT</th>\n",
       "      <th>ATTRIBUTES</th>\n",
       "      <th>CATALOG_PRODUCT_ID</th>\n",
       "      <th>CONDITION</th>\n",
       "      <th>DOMAIN_ID</th>\n",
       "      <th>PRICE</th>\n",
       "      <th>SELLER_ID</th>\n",
       "      <th>STATUS</th>\n",
       "      <th>TITLE</th>\n",
       "    </tr>\n",
       "    <tr>\n",
       "      <th>ITEM_ID</th>\n",
       "      <th></th>\n",
       "      <th></th>\n",
       "      <th></th>\n",
       "      <th></th>\n",
       "      <th></th>\n",
       "      <th></th>\n",
       "      <th></th>\n",
       "      <th></th>\n",
       "      <th></th>\n",
       "      <th></th>\n",
       "      <th></th>\n",
       "      <th></th>\n",
       "      <th></th>\n",
       "    </tr>\n",
       "  </thead>\n",
       "  <tbody>\n",
       "    <tr>\n",
       "      <th>A002DG7EAZ</th>\n",
       "      <td>A002DG7EAZ</td>\n",
       "      <td>812.0</td>\n",
       "      <td>36.0</td>\n",
       "      <td>32.0</td>\n",
       "      <td>12.0</td>\n",
       "      <td>NaN</td>\n",
       "      <td>H53U1H7Q5G</td>\n",
       "      <td>NaN</td>\n",
       "      <td>NaN</td>\n",
       "      <td>NaN</td>\n",
       "      <td>U2T0EY02XB</td>\n",
       "      <td>under_review</td>\n",
       "      <td>Apresentador Multimídia Wireless Logitech R400...</td>\n",
       "    </tr>\n",
       "    <tr>\n",
       "      <th>A00SG33UIH</th>\n",
       "      <td>A00SG33UIH</td>\n",
       "      <td>2320.0</td>\n",
       "      <td>16.0</td>\n",
       "      <td>11.0</td>\n",
       "      <td>4.0</td>\n",
       "      <td>[{'id': 'AUTHOR', 'name': 'Autor', 'value_id':...</td>\n",
       "      <td>H53U1H7Q5G</td>\n",
       "      <td>new</td>\n",
       "      <td>MLB-BOOKS</td>\n",
       "      <td>149.99</td>\n",
       "      <td>BCZWFNME44</td>\n",
       "      <td>active</td>\n",
       "      <td>Apostila Trt-sp 2018 - Analista Jud.  Área Apo...</td>\n",
       "    </tr>\n",
       "    <tr>\n",
       "      <th>A00VIC9XL7</th>\n",
       "      <td>A00VIC9XL7</td>\n",
       "      <td>213.0</td>\n",
       "      <td>16.0</td>\n",
       "      <td>13.0</td>\n",
       "      <td>10.0</td>\n",
       "      <td>[{'id': 'BRAND', 'name': 'Marca', 'value_id': ...</td>\n",
       "      <td>H53U1H7Q5G</td>\n",
       "      <td>new</td>\n",
       "      <td>MLB-BABY_GROOMING_KITS</td>\n",
       "      <td>329.00</td>\n",
       "      <td>T2JY69NPBA</td>\n",
       "      <td>active</td>\n",
       "      <td>Wetstop 3 Alarme Miccional Xixi Na Cama Enurese</td>\n",
       "    </tr>\n",
       "    <tr>\n",
       "      <th>A00VM7MP9F</th>\n",
       "      <td>A00VM7MP9F</td>\n",
       "      <td>175.0</td>\n",
       "      <td>25.0</td>\n",
       "      <td>20.0</td>\n",
       "      <td>15.0</td>\n",
       "      <td>[{'id': 'ITEM_CONDITION', 'name': 'Condição do...</td>\n",
       "      <td>H53U1H7Q5G</td>\n",
       "      <td>new</td>\n",
       "      <td>MLB-BICYCLE_BOTTLE_CAGES</td>\n",
       "      <td>45.00</td>\n",
       "      <td>YA6XOOJU39</td>\n",
       "      <td>active</td>\n",
       "      <td>Suporte De Garrafa Zefal Wiiz Para Bicicleta</td>\n",
       "    </tr>\n",
       "    <tr>\n",
       "      <th>A00W1VSE3K</th>\n",
       "      <td>A00W1VSE3K</td>\n",
       "      <td>82.0</td>\n",
       "      <td>30.0</td>\n",
       "      <td>15.0</td>\n",
       "      <td>5.0</td>\n",
       "      <td>[{'id': 'ALARM', 'name': 'Com alarme', 'value_...</td>\n",
       "      <td>H53U1H7Q5G</td>\n",
       "      <td>new</td>\n",
       "      <td>MLB-PEDOMETERS</td>\n",
       "      <td>31.98</td>\n",
       "      <td>DCLDPQAY43</td>\n",
       "      <td>active</td>\n",
       "      <td>Relógio Marcador De Passos Distancia E Caloria...</td>\n",
       "    </tr>\n",
       "  </tbody>\n",
       "</table>\n",
       "</div>"
      ],
      "text/plain": [
       "               ITEM_ID  SHP_WEIGHT  SHP_LENGTH  SHP_WIDTH  SHP_HEIGHT  \\\n",
       "ITEM_ID                                                                 \n",
       "A002DG7EAZ  A002DG7EAZ       812.0        36.0       32.0        12.0   \n",
       "A00SG33UIH  A00SG33UIH      2320.0        16.0       11.0         4.0   \n",
       "A00VIC9XL7  A00VIC9XL7       213.0        16.0       13.0        10.0   \n",
       "A00VM7MP9F  A00VM7MP9F       175.0        25.0       20.0        15.0   \n",
       "A00W1VSE3K  A00W1VSE3K        82.0        30.0       15.0         5.0   \n",
       "\n",
       "                                                   ATTRIBUTES  \\\n",
       "ITEM_ID                                                         \n",
       "A002DG7EAZ                                                NaN   \n",
       "A00SG33UIH  [{'id': 'AUTHOR', 'name': 'Autor', 'value_id':...   \n",
       "A00VIC9XL7  [{'id': 'BRAND', 'name': 'Marca', 'value_id': ...   \n",
       "A00VM7MP9F  [{'id': 'ITEM_CONDITION', 'name': 'Condição do...   \n",
       "A00W1VSE3K  [{'id': 'ALARM', 'name': 'Com alarme', 'value_...   \n",
       "\n",
       "           CATALOG_PRODUCT_ID CONDITION                 DOMAIN_ID   PRICE  \\\n",
       "ITEM_ID                                                                     \n",
       "A002DG7EAZ         H53U1H7Q5G       NaN                       NaN     NaN   \n",
       "A00SG33UIH         H53U1H7Q5G       new                 MLB-BOOKS  149.99   \n",
       "A00VIC9XL7         H53U1H7Q5G       new    MLB-BABY_GROOMING_KITS  329.00   \n",
       "A00VM7MP9F         H53U1H7Q5G       new  MLB-BICYCLE_BOTTLE_CAGES   45.00   \n",
       "A00W1VSE3K         H53U1H7Q5G       new            MLB-PEDOMETERS   31.98   \n",
       "\n",
       "             SELLER_ID        STATUS  \\\n",
       "ITEM_ID                                \n",
       "A002DG7EAZ  U2T0EY02XB  under_review   \n",
       "A00SG33UIH  BCZWFNME44        active   \n",
       "A00VIC9XL7  T2JY69NPBA        active   \n",
       "A00VM7MP9F  YA6XOOJU39        active   \n",
       "A00W1VSE3K  DCLDPQAY43        active   \n",
       "\n",
       "                                                        TITLE  \n",
       "ITEM_ID                                                        \n",
       "A002DG7EAZ  Apresentador Multimídia Wireless Logitech R400...  \n",
       "A00SG33UIH  Apostila Trt-sp 2018 - Analista Jud.  Área Apo...  \n",
       "A00VIC9XL7    Wetstop 3 Alarme Miccional Xixi Na Cama Enurese  \n",
       "A00VM7MP9F       Suporte De Garrafa Zefal Wiiz Para Bicicleta  \n",
       "A00W1VSE3K  Relógio Marcador De Passos Distancia E Caloria...  "
      ]
     },
     "execution_count": 12,
     "metadata": {},
     "output_type": "execute_result"
    }
   ],
   "source": [
    "dataset.head()"
   ]
  },
  {
   "cell_type": "code",
   "execution_count": null,
   "metadata": {},
   "outputs": [],
   "source": []
  },
  {
   "cell_type": "markdown",
   "metadata": {},
   "source": [
    "**1-Definir el target. En nuestro caso, agregar una columna no_maquinable la cual tendrá valor de verdad True si alguna de las dimensiones es > 70 y False en caso contrario**"
   ]
  },
  {
   "cell_type": "code",
   "execution_count": 13,
   "metadata": {},
   "outputs": [],
   "source": [
    "labels=(dataset['SHP_LENGTH']>70) | (dataset['SHP_WIDTH'] >70) | (dataset['SHP_HEIGHT'] >70)"
   ]
  },
  {
   "cell_type": "markdown",
   "metadata": {},
   "source": [
    "**2-Hacer un split de train/test del dataset limpio. Se recomienda usar train_test_split con 80% para training y 20% para test.**"
   ]
  },
  {
   "cell_type": "code",
   "execution_count": 14,
   "metadata": {},
   "outputs": [
    {
     "name": "stdout",
     "output_type": "stream",
     "text": [
      "Requirement already satisfied: sklearn in /home/pbrizuela/anaconda3/lib/python3.7/site-packages (0.0)\n",
      "Requirement already satisfied: scikit-learn in /home/pbrizuela/anaconda3/lib/python3.7/site-packages (from sklearn) (0.20.3)\n",
      "Requirement already satisfied: numpy>=1.8.2 in /home/pbrizuela/anaconda3/lib/python3.7/site-packages (from scikit-learn->sklearn) (1.16.2)\n",
      "Requirement already satisfied: scipy>=0.13.3 in /home/pbrizuela/anaconda3/lib/python3.7/site-packages (from scikit-learn->sklearn) (1.2.1)\n"
     ]
    }
   ],
   "source": [
    "!pip install sklearn"
   ]
  },
  {
   "cell_type": "code",
   "execution_count": 15,
   "metadata": {},
   "outputs": [],
   "source": [
    "from sklearn.model_selection import train_test_split"
   ]
  },
  {
   "cell_type": "code",
   "execution_count": 16,
   "metadata": {},
   "outputs": [],
   "source": [
    "data_train, data_test, label_train, label_test = train_test_split(dataset, labels, test_size = 0.2)"
   ]
  },
  {
   "cell_type": "code",
   "execution_count": null,
   "metadata": {},
   "outputs": [],
   "source": []
  },
  {
   "cell_type": "markdown",
   "metadata": {},
   "source": [
    "**3-Elegir entre 2 modelos distintos vistos en clases (Sugerencia: Perceptron y Naive Bayes) y entrenar los modelos.**\n"
   ]
  },
  {
   "cell_type": "code",
   "execution_count": 17,
   "metadata": {},
   "outputs": [],
   "source": [
    "from sklearn.feature_extraction.text import CountVectorizer"
   ]
  },
  {
   "cell_type": "code",
   "execution_count": 18,
   "metadata": {},
   "outputs": [],
   "source": [
    "from nltk.corpus import stopwords"
   ]
  },
  {
   "cell_type": "code",
   "execution_count": 19,
   "metadata": {},
   "outputs": [],
   "source": [
    "import string "
   ]
  },
  {
   "cell_type": "code",
   "execution_count": 20,
   "metadata": {},
   "outputs": [],
   "source": [
    "def text_process(mess):\n",
    "    \"\"\"\n",
    "    Takes in a string of text, then performs the following:\n",
    "    1. Remove all punctuation\n",
    "    2. Remove all stopwords\n",
    "    3. Returns a list of the cleaned text\n",
    "    \"\"\"\n",
    "    # Check characters to see if they are in punctuation\n",
    "    nopunc = [char for char in mess if char not in string.punctuation]\n",
    "\n",
    "    # Join the characters again to form the string.\n",
    "    nopunc = ''.join(nopunc)\n",
    "    \n",
    "    # Now just remove any stopwords\n",
    "    return [word for word in nopunc.split() if word.lower() not in stopwords.words('portuguese')]"
   ]
  },
  {
   "cell_type": "code",
   "execution_count": 21,
   "metadata": {},
   "outputs": [],
   "source": [
    "vectorizer = CountVectorizer(analyzer=text_process)"
   ]
  },
  {
   "cell_type": "code",
   "execution_count": 22,
   "metadata": {},
   "outputs": [
    {
     "name": "stderr",
     "output_type": "stream",
     "text": [
      "[nltk_data] Downloading package stopwords to\n",
      "[nltk_data]     /home/pbrizuela/nltk_data...\n",
      "[nltk_data]   Package stopwords is already up-to-date!\n"
     ]
    },
    {
     "data": {
      "text/plain": [
       "True"
      ]
     },
     "execution_count": 22,
     "metadata": {},
     "output_type": "execute_result"
    }
   ],
   "source": [
    "import nltk\n",
    "nltk.download('stopwords')"
   ]
  },
  {
   "cell_type": "code",
   "execution_count": 23,
   "metadata": {},
   "outputs": [
    {
     "data": {
      "text/plain": [
       "CountVectorizer(analyzer=<function text_process at 0x7fc8e3e81598>,\n",
       "        binary=False, decode_error='strict', dtype=<class 'numpy.int64'>,\n",
       "        encoding='utf-8', input='content', lowercase=True, max_df=1.0,\n",
       "        max_features=None, min_df=1, ngram_range=(1, 1), preprocessor=None,\n",
       "        stop_words=None, strip_accents=None,\n",
       "        token_pattern='(?u)\\\\b\\\\w\\\\w+\\\\b', tokenizer=None, vocabulary=None)"
      ]
     },
     "execution_count": 23,
     "metadata": {},
     "output_type": "execute_result"
    }
   ],
   "source": [
    "vectorizer.fit(dataset['TITLE'])"
   ]
  },
  {
   "cell_type": "code",
   "execution_count": null,
   "metadata": {},
   "outputs": [],
   "source": [
    "print(vectorizer.vocabulary_)"
   ]
  },
  {
   "cell_type": "code",
   "execution_count": 42,
   "metadata": {},
   "outputs": [],
   "source": [
    "# encode document\n",
    "vector = vectorizer.transform(dataset['TITLE'])"
   ]
  },
  {
   "cell_type": "code",
   "execution_count": 43,
   "metadata": {},
   "outputs": [
    {
     "name": "stdout",
     "output_type": "stream",
     "text": [
      "(236443,)\n"
     ]
    },
    {
     "data": {
      "text/plain": [
       "<236443x115816 sparse matrix of type '<class 'numpy.int64'>'\n",
       "\twith 1866955 stored elements in Compressed Sparse Row format>"
      ]
     },
     "execution_count": 43,
     "metadata": {},
     "output_type": "execute_result"
    }
   ],
   "source": [
    "print(dataset['TITLE'].shape)\n",
    "vector"
   ]
  },
  {
   "cell_type": "code",
   "execution_count": 44,
   "metadata": {},
   "outputs": [],
   "source": [
    "data_train, data_test, label_train, label_test = train_test_split(vector, labels, test_size = 0.2)"
   ]
  },
  {
   "cell_type": "markdown",
   "metadata": {},
   "source": [
    "Perceptron"
   ]
  },
  {
   "cell_type": "code",
   "execution_count": 45,
   "metadata": {},
   "outputs": [],
   "source": [
    "from sklearn.linear_model import Perceptron"
   ]
  },
  {
   "cell_type": "code",
   "execution_count": 46,
   "metadata": {},
   "outputs": [],
   "source": [
    "clf = Perceptron(tol=1e-3, random_state=0)"
   ]
  },
  {
   "cell_type": "code",
   "execution_count": 49,
   "metadata": {},
   "outputs": [
    {
     "data": {
      "text/plain": [
       "Perceptron(alpha=0.0001, class_weight=None, early_stopping=False, eta0=1.0,\n",
       "      fit_intercept=True, max_iter=None, n_iter=None, n_iter_no_change=5,\n",
       "      n_jobs=None, penalty=None, random_state=0, shuffle=True, tol=0.001,\n",
       "      validation_fraction=0.1, verbose=0, warm_start=False)"
      ]
     },
     "execution_count": 49,
     "metadata": {},
     "output_type": "execute_result"
    }
   ],
   "source": [
    "clf.fit(data_train, label_train.astype(int))"
   ]
  },
  {
   "cell_type": "code",
   "execution_count": 51,
   "metadata": {},
   "outputs": [
    {
     "data": {
      "text/plain": [
       "0.9406415868383768"
      ]
     },
     "execution_count": 51,
     "metadata": {},
     "output_type": "execute_result"
    }
   ],
   "source": [
    "clf.score(data_test, label_test.astype(int))"
   ]
  },
  {
   "cell_type": "markdown",
   "metadata": {},
   "source": [
    "Naive Bayes"
   ]
  },
  {
   "cell_type": "code",
   "execution_count": null,
   "metadata": {},
   "outputs": [],
   "source": [
    "labels.astype(int)"
   ]
  },
  {
   "cell_type": "code",
   "execution_count": 26,
   "metadata": {},
   "outputs": [],
   "source": [
    "from sklearn.naive_bayes import MultinomialNB"
   ]
  },
  {
   "cell_type": "code",
   "execution_count": 27,
   "metadata": {},
   "outputs": [],
   "source": [
    "clf = MultinomialNB()"
   ]
  },
  {
   "cell_type": "code",
   "execution_count": 28,
   "metadata": {},
   "outputs": [
    {
     "data": {
      "text/plain": [
       "MultinomialNB(alpha=1.0, class_prior=None, fit_prior=True)"
      ]
     },
     "execution_count": 28,
     "metadata": {},
     "output_type": "execute_result"
    }
   ],
   "source": [
    "clf.fit(data_train, label_train.astype(int))"
   ]
  },
  {
   "cell_type": "code",
   "execution_count": 29,
   "metadata": {},
   "outputs": [],
   "source": [
    "predicted = clf.predict(data_test)"
   ]
  },
  {
   "cell_type": "code",
   "execution_count": 38,
   "metadata": {},
   "outputs": [
    {
     "data": {
      "text/plain": [
       "(47289,)"
      ]
     },
     "execution_count": 38,
     "metadata": {},
     "output_type": "execute_result"
    }
   ],
   "source": [
    "label_test.shape"
   ]
  },
  {
   "cell_type": "code",
   "execution_count": 37,
   "metadata": {},
   "outputs": [
    {
     "data": {
      "text/plain": [
       "2063"
      ]
     },
     "execution_count": 37,
     "metadata": {},
     "output_type": "execute_result"
    }
   ],
   "source": [
    "label_test.sum()"
   ]
  },
  {
   "cell_type": "code",
   "execution_count": 33,
   "metadata": {},
   "outputs": [
    {
     "data": {
      "text/plain": [
       "1659"
      ]
     },
     "execution_count": 33,
     "metadata": {},
     "output_type": "execute_result"
    }
   ],
   "source": [
    "predicted.sum()"
   ]
  },
  {
   "cell_type": "code",
   "execution_count": 30,
   "metadata": {},
   "outputs": [
    {
     "data": {
      "text/plain": [
       "0.948148618071856"
      ]
     },
     "execution_count": 30,
     "metadata": {},
     "output_type": "execute_result"
    }
   ],
   "source": [
    " numpy.mean(predicted == label_test.astype(int))"
   ]
  },
  {
   "cell_type": "code",
   "execution_count": 31,
   "metadata": {},
   "outputs": [
    {
     "data": {
      "text/plain": [
       "count     47289\n",
       "unique        2\n",
       "top       False\n",
       "freq      45226\n",
       "dtype: object"
      ]
     },
     "execution_count": 31,
     "metadata": {},
     "output_type": "execute_result"
    }
   ],
   "source": [
    "label_test.describe()"
   ]
  },
  {
   "cell_type": "markdown",
   "metadata": {},
   "source": [
    "**4-Evaluar y reportar métricas (Sugerimos: Confusion matrix, precision, recall y f1-score). Puede ser de utilidad ver: link1, link2.**"
   ]
  },
  {
   "cell_type": "code",
   "execution_count": null,
   "metadata": {},
   "outputs": [],
   "source": []
  },
  {
   "cell_type": "markdown",
   "metadata": {},
   "source": [
    "**5-Splitear el training set en train y validación (Sugerencia 80-20). Re-entrenar usando el conjunto de train y evaluar en el conjunto de validación con distintos hiper-parámetros los distintos modelos elegidos. Reportar las métricas de las distintas pruebas y describir cual es la mejor elección de hiper-parámetros. Explicar las métricas entendiendo el desbalance de clases del target. Reportar las métricas del mejor modelo sobre el conjunto de test y compararlo con los modelos entrenados en el punto 3.**"
   ]
  },
  {
   "cell_type": "code",
   "execution_count": null,
   "metadata": {},
   "outputs": [],
   "source": []
  },
  {
   "cell_type": "code",
   "execution_count": null,
   "metadata": {},
   "outputs": [],
   "source": [
    "dataset['TARGET'].sample(100)"
   ]
  },
  {
   "cell_type": "code",
   "execution_count": null,
   "metadata": {},
   "outputs": [],
   "source": []
  },
  {
   "cell_type": "code",
   "execution_count": null,
   "metadata": {},
   "outputs": [],
   "source": []
  },
  {
   "cell_type": "code",
   "execution_count": null,
   "metadata": {},
   "outputs": [],
   "source": []
  },
  {
   "cell_type": "markdown",
   "metadata": {},
   "source": [
    "\n"
   ]
  }
 ],
 "metadata": {
  "kernelspec": {
   "display_name": "Python 3",
   "language": "python",
   "name": "python3"
  },
  "language_info": {
   "codemirror_mode": {
    "name": "ipython",
    "version": 3
   },
   "file_extension": ".py",
   "mimetype": "text/x-python",
   "name": "python",
   "nbconvert_exporter": "python",
   "pygments_lexer": "ipython3",
   "version": "3.7.3"
  }
 },
 "nbformat": 4,
 "nbformat_minor": 2
}
